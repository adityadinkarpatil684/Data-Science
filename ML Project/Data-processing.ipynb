{
 "cells": [
  {
   "cell_type": "code",
   "execution_count": 1,
   "id": "2ce6833f",
   "metadata": {},
   "outputs": [],
   "source": [
    "import numpy as np\n",
    "import pandas as pd\n",
    "from sklearn.preprocessing import LabelEncoder, StandardScaler\n",
    "from sklearn.ensemble import RandomForestClassifier"
   ]
  },
  {
   "cell_type": "markdown",
   "id": "e504a0ce",
   "metadata": {},
   "source": [
    "#  Detect & Remove Outliers using IQR"
   ]
  },
  {
   "cell_type": "code",
   "execution_count": 2,
   "id": "e9cf4e3d",
   "metadata": {},
   "outputs": [
    {
     "name": "stdout",
     "output_type": "stream",
     "text": [
      "Original shape: (4269, 12), After outlier removal: (4173, 12)\n"
     ]
    }
   ],
   "source": [
    "def remove_outliers_iqr(data, cols):\n",
    "    cleaned_data = data.copy()\n",
    "    for col in cols:\n",
    "        Q1 = cleaned_data[col].quantile(0.25)\n",
    "        Q3 = cleaned_data[col].quantile(0.75)\n",
    "        IQR = Q3 - Q1\n",
    "        lower_bound = Q1 - 1.5 * IQR\n",
    "        upper_bound = Q3 + 1.5 * IQR\n",
    "        # Keep only data within the bounds\n",
    "        cleaned_data = cleaned_data[(cleaned_data[col] >= lower_bound) & (cleaned_data[col] <= upper_bound)]\n",
    "    return cleaned_data\n",
    "\n",
    "\n",
    "# Load dataset\n",
    "df = pd.read_csv(\"loan_approval_dataset.csv\")\n",
    "df = df.drop(\"loan_id\", axis=1)\n",
    "\n",
    "\n",
    "#  Strip spaces from column names\n",
    "df.columns = df.columns.str.strip()\n",
    "\n",
    "# Select numerical columns\n",
    "numerical_cols = ['cibil_score', 'income_annum', 'loan_term', 'loan_amount', 'residential_assets_value', 'commercial_assets_value', 'luxury_assets_value', 'bank_asset_value']\n",
    "\n",
    "# Apply outlier removal\n",
    "df_clean = remove_outliers_iqr(df, numerical_cols)\n",
    "\n",
    "print(f\"Original shape: {df.shape}, After outlier removal: {df_clean.shape}\")\n"
   ]
  },
  {
   "cell_type": "markdown",
   "id": "0fdd177e",
   "metadata": {},
   "source": [
    "# Encode Categorical Variables"
   ]
  },
  {
   "cell_type": "code",
   "execution_count": 3,
   "id": "ea28b488",
   "metadata": {},
   "outputs": [],
   "source": [
    "categorical_cols = ['education','self_employed','loan_status']\n",
    "\n",
    "encoder = LabelEncoder()\n",
    "for col in categorical_cols:\n",
    "    if col in df_clean.columns:\n",
    "        df_clean[col] = encoder.fit_transform(df_clean[col].astype(str))"
   ]
  },
  {
   "cell_type": "markdown",
   "id": "67767273",
   "metadata": {},
   "source": [
    "# Feature Scaling"
   ]
  },
  {
   "cell_type": "code",
   "execution_count": 4,
   "id": "211b3f06",
   "metadata": {},
   "outputs": [],
   "source": [
    "scaler = StandardScaler()\n",
    "df_clean[numerical_cols] = scaler.fit_transform(df_clean[numerical_cols])\n"
   ]
  },
  {
   "cell_type": "markdown",
   "id": "1e9014ac",
   "metadata": {},
   "source": [
    "# Feature Importance"
   ]
  },
  {
   "cell_type": "code",
   "execution_count": 5,
   "id": "cca8e32c",
   "metadata": {},
   "outputs": [
    {
     "name": "stdout",
     "output_type": "stream",
     "text": [
      "\n",
      " Feature Importance (Random Forest):\n",
      "cibil_score: 0.8110\n",
      "loan_term: 0.0610\n",
      "loan_amount: 0.0298\n",
      "luxury_assets_value: 0.0189\n",
      "income_annum: 0.0187\n",
      "residential_assets_value: 0.0183\n",
      "commercial_assets_value: 0.0159\n",
      "bank_asset_value: 0.0142\n",
      "no_of_dependents: 0.0076\n",
      "self_employed: 0.0023\n",
      "education: 0.0023\n"
     ]
    }
   ],
   "source": [
    "if 'loan_status' in df_clean.columns:\n",
    "    X = df_clean.drop('loan_status', axis=1)\n",
    "    y = df_clean['loan_status']\n",
    "\n",
    "    model = RandomForestClassifier(random_state=42)\n",
    "    model.fit(X, y)\n",
    "\n",
    "    importances = model.feature_importances_\n",
    "\n",
    "    feature_importance = sorted(zip(X.columns, importances), key=lambda x: x[1], reverse=True)\n",
    "\n",
    "    print(\"\\n Feature Importance (Random Forest):\")\n",
    "    for feat, imp in feature_importance:\n",
    "        print(f\"{feat}: {imp:.4f}\")\n",
    "else:\n",
    "    print(\" Target column 'loan_status' not found. Cannot compute feature importance.\")"
   ]
  },
  {
   "cell_type": "markdown",
   "id": "3b4ae9ef",
   "metadata": {},
   "source": [
    "# Class-Imbalance"
   ]
  },
  {
   "cell_type": "code",
   "execution_count": 6,
   "id": "f6b48aef",
   "metadata": {},
   "outputs": [
    {
     "name": "stdout",
     "output_type": "stream",
     "text": [
      "\n",
      "Class distribution before balancing:\n",
      "loan_status\n",
      "0    2599\n",
      "1    1574\n",
      "Name: count, dtype: int64\n",
      "\n",
      " Dataset is already balanced. No action taken.\n"
     ]
    }
   ],
   "source": [
    "from collections import Counter\n",
    "from imblearn.over_sampling import SMOTE\n",
    "\n",
    "# Target column (update if different in your dataset)\n",
    "target_col = \"loan_status\"   # e.g., 'loan_status' or 'approval_status'\n",
    "\n",
    "# Check class distribution\n",
    "print(\"\\nClass distribution before balancing:\")\n",
    "print(df_clean[target_col].value_counts())\n",
    "\n",
    "# Define imbalance threshold (e.g., minority class < 40% of majority class)\n",
    "class_counts = df_clean[target_col].value_counts()\n",
    "majority = class_counts.max()\n",
    "minority = class_counts.min()\n",
    "\n",
    "if minority / majority < 0.4:   # condition → imbalance exists\n",
    "    print(\"\\n Imbalance detected! Applying SMOTE oversampling...\")\n",
    "\n",
    "    X = df_clean.drop(columns=[target_col])\n",
    "    y = df_clean[target_col]\n",
    "\n",
    "    smote = SMOTE(random_state=42)\n",
    "    X_resampled, y_resampled = smote.fit_resample(X, y)\n",
    "\n",
    "    # Merge back into balanced DataFrame\n",
    "    df_balanced = pd.concat([pd.DataFrame(X_resampled, columns=X.columns), \n",
    "                             pd.DataFrame(y_resampled, columns=[target_col])], axis=1)\n",
    "\n",
    "    print(\"\\nClass distribution after balancing:\")\n",
    "    print(df_balanced[target_col].value_counts())\n",
    "else:\n",
    "    print(\"\\n Dataset is already balanced. No action taken.\")\n",
    "    df_balanced = df_clean.copy()"
   ]
  },
  {
   "cell_type": "code",
   "execution_count": 7,
   "id": "a084769b",
   "metadata": {},
   "outputs": [
    {
     "name": "stdout",
     "output_type": "stream",
     "text": [
      "✅ Preprocessed dataset saved as 'loan_preprocess_dataset.csv'\n"
     ]
    }
   ],
   "source": [
    "# Save the cleaned and preprocessed dataset to CSV\n",
    "df_clean.to_csv(\"loan_preprocess_dataset.csv\", index=False)\n",
    "\n",
    "print(\"✅ Preprocessed dataset saved as 'loan_preprocess_dataset.csv'\")\n"
   ]
  }
 ],
 "metadata": {
  "kernelspec": {
   "display_name": "Python 3",
   "language": "python",
   "name": "python3"
  },
  "language_info": {
   "codemirror_mode": {
    "name": "ipython",
    "version": 3
   },
   "file_extension": ".py",
   "mimetype": "text/x-python",
   "name": "python",
   "nbconvert_exporter": "python",
   "pygments_lexer": "ipython3",
   "version": "3.12.1"
  }
 },
 "nbformat": 4,
 "nbformat_minor": 5
}
